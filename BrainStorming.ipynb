{
 "cells": [
  {
   "cell_type": "code",
   "execution_count": 1,
   "metadata": {},
   "outputs": [],
   "source": [
    "import pandas as pd\n",
    "import seaborn as sns"
   ]
  },
  {
   "cell_type": "code",
   "execution_count": 2,
   "metadata": {},
   "outputs": [],
   "source": [
    "test = pd.read_csv('fbc/W012B.csv')"
   ]
  },
  {
   "cell_type": "code",
   "execution_count": 7,
   "metadata": {},
   "outputs": [],
   "source": [
    "# with pd.option_context('display.max_rows', 500, 'display.max_columns', 15):\n",
    "#     display(test)"
   ]
  },
  {
   "cell_type": "code",
   "execution_count": 6,
   "metadata": {},
   "outputs": [
    {
     "data": {
      "text/html": [
       "<div>\n",
       "<style scoped>\n",
       "    .dataframe tbody tr th:only-of-type {\n",
       "        vertical-align: middle;\n",
       "    }\n",
       "\n",
       "    .dataframe tbody tr th {\n",
       "        vertical-align: top;\n",
       "    }\n",
       "\n",
       "    .dataframe thead th {\n",
       "        text-align: right;\n",
       "    }\n",
       "</style>\n",
       "<table border=\"1\" class=\"dataframe\">\n",
       "  <thead>\n",
       "    <tr style=\"text-align: right;\">\n",
       "      <th></th>\n",
       "      <th>oper_status</th>\n",
       "      <th>status_detail</th>\n",
       "      <th>poller_source</th>\n",
       "      <th>device_id</th>\n",
       "      <th>collection_time</th>\n",
       "      <th>span</th>\n",
       "      <th>bins</th>\n",
       "      <th>first</th>\n",
       "      <th>last</th>\n",
       "      <th>amplitudes</th>\n",
       "      <th>offset</th>\n",
       "      <th>partition</th>\n",
       "      <th>load_dt</th>\n",
       "      <th>site_id</th>\n",
       "    </tr>\n",
       "  </thead>\n",
       "  <tbody>\n",
       "    <tr>\n",
       "      <th>0</th>\n",
       "      <td>SUCCESS</td>\n",
       "      <td>Successful Scan</td>\n",
       "      <td>ACS</td>\n",
       "      <td>f8:a0:97:7b:9d:04</td>\n",
       "      <td>2021-12-31 19:13:25.805188</td>\n",
       "      <td>60000000</td>\n",
       "      <td>512</td>\n",
       "      <td>36000000</td>\n",
       "      <td>996000000</td>\n",
       "      <td>[-4020, -4030, -4280, -4390, -4390, -4550, -45...</td>\n",
       "      <td>24782148</td>\n",
       "      <td>1</td>\n",
       "      <td>2021-12-31</td>\n",
       "      <td>1</td>\n",
       "    </tr>\n",
       "    <tr>\n",
       "      <th>1</th>\n",
       "      <td>SUCCESS</td>\n",
       "      <td>Successful Scan</td>\n",
       "      <td>ACS</td>\n",
       "      <td>5c:e3:0e:7d:96:ed</td>\n",
       "      <td>2021-12-31 07:19:02.604096</td>\n",
       "      <td>60000000</td>\n",
       "      <td>512</td>\n",
       "      <td>36000000</td>\n",
       "      <td>996000000</td>\n",
       "      <td>[-6365, -6366, -6348, -6155, -6226, -6056, -61...</td>\n",
       "      <td>24751365</td>\n",
       "      <td>1</td>\n",
       "      <td>2021-12-31</td>\n",
       "      <td>1</td>\n",
       "    </tr>\n",
       "    <tr>\n",
       "      <th>2</th>\n",
       "      <td>SUCCESS</td>\n",
       "      <td>Successful Scan</td>\n",
       "      <td>ACS</td>\n",
       "      <td>d4:b9:2f:46:d1:9b</td>\n",
       "      <td>2021-12-31 21:11:37.870512</td>\n",
       "      <td>60000000</td>\n",
       "      <td>512</td>\n",
       "      <td>36000000</td>\n",
       "      <td>996000000</td>\n",
       "      <td>[-1527, -1210, -1277, -1316, -1287, -1213, -11...</td>\n",
       "      <td>24787956</td>\n",
       "      <td>2</td>\n",
       "      <td>2021-12-31</td>\n",
       "      <td>1</td>\n",
       "    </tr>\n",
       "    <tr>\n",
       "      <th>3</th>\n",
       "      <td>SUCCESS</td>\n",
       "      <td>Successful Scan</td>\n",
       "      <td>ACS</td>\n",
       "      <td>c8:63:fc:9f:f7:09</td>\n",
       "      <td>2021-12-31 12:27:26.635715</td>\n",
       "      <td>60000000</td>\n",
       "      <td>512</td>\n",
       "      <td>36000000</td>\n",
       "      <td>996000000</td>\n",
       "      <td>[-6505, -6355, -6281, -6464, -6400, -6196, -61...</td>\n",
       "      <td>24765497</td>\n",
       "      <td>3</td>\n",
       "      <td>2021-12-31</td>\n",
       "      <td>1</td>\n",
       "    </tr>\n",
       "    <tr>\n",
       "      <th>4</th>\n",
       "      <td>SUCCESS</td>\n",
       "      <td>Successful Scan</td>\n",
       "      <td>ACS</td>\n",
       "      <td>7c:26:34:11:57:34</td>\n",
       "      <td>2021-12-31 05:55:55.596384</td>\n",
       "      <td>60000000</td>\n",
       "      <td>512</td>\n",
       "      <td>36000000</td>\n",
       "      <td>996000000</td>\n",
       "      <td>[-5482, -5230, -5339, -5602, -5657, -5360, -53...</td>\n",
       "      <td>24744645</td>\n",
       "      <td>0</td>\n",
       "      <td>2021-12-31</td>\n",
       "      <td>1</td>\n",
       "    </tr>\n",
       "  </tbody>\n",
       "</table>\n",
       "</div>"
      ],
      "text/plain": [
       "  oper_status    status_detail poller_source          device_id  \\\n",
       "0     SUCCESS  Successful Scan           ACS  f8:a0:97:7b:9d:04   \n",
       "1     SUCCESS  Successful Scan           ACS  5c:e3:0e:7d:96:ed   \n",
       "2     SUCCESS  Successful Scan           ACS  d4:b9:2f:46:d1:9b   \n",
       "3     SUCCESS  Successful Scan           ACS  c8:63:fc:9f:f7:09   \n",
       "4     SUCCESS  Successful Scan           ACS  7c:26:34:11:57:34   \n",
       "\n",
       "              collection_time      span  bins     first       last  \\\n",
       "0  2021-12-31 19:13:25.805188  60000000   512  36000000  996000000   \n",
       "1  2021-12-31 07:19:02.604096  60000000   512  36000000  996000000   \n",
       "2  2021-12-31 21:11:37.870512  60000000   512  36000000  996000000   \n",
       "3  2021-12-31 12:27:26.635715  60000000   512  36000000  996000000   \n",
       "4  2021-12-31 05:55:55.596384  60000000   512  36000000  996000000   \n",
       "\n",
       "                                          amplitudes    offset  partition  \\\n",
       "0  [-4020, -4030, -4280, -4390, -4390, -4550, -45...  24782148          1   \n",
       "1  [-6365, -6366, -6348, -6155, -6226, -6056, -61...  24751365          1   \n",
       "2  [-1527, -1210, -1277, -1316, -1287, -1213, -11...  24787956          2   \n",
       "3  [-6505, -6355, -6281, -6464, -6400, -6196, -61...  24765497          3   \n",
       "4  [-5482, -5230, -5339, -5602, -5657, -5360, -53...  24744645          0   \n",
       "\n",
       "      load_dt  site_id  \n",
       "0  2021-12-31        1  \n",
       "1  2021-12-31        1  \n",
       "2  2021-12-31        1  \n",
       "3  2021-12-31        1  \n",
       "4  2021-12-31        1  "
      ]
     },
     "metadata": {},
     "output_type": "display_data"
    }
   ],
   "source": [
    "display(test.head())"
   ]
  },
  {
   "cell_type": "code",
   "execution_count": 20,
   "metadata": {},
   "outputs": [
    {
     "data": {
      "text/plain": [
       "<AxesSubplot:>"
      ]
     },
     "execution_count": 20,
     "metadata": {},
     "output_type": "execute_result"
    },
    {
     "data": {
      "image/png": "[encoded data removed]",
      "text/plain": [
       "<Figure size 432x288 with 1 Axes>"
      ]
     },
     "metadata": {
      "needs_background": "light"
     },
     "output_type": "display_data"
    }
   ],
   "source": [
    "test1 = list(map(int, test.amplitudes[3].split(',')[1:-1]))\n",
    "sns.lineplot(x = list(range(len(test1))), y = test1)"
   ]
  },
  {
   "cell_type": "code",
   "execution_count": null,
   "metadata": {},
   "outputs": [],
   "source": []
  }
 ],
 "metadata": {
  "interpreter": {
   "hash": "9a8efc3c595aed6e258115fdbc81be49429f464b3825d0fc33dc408afc6a1212"
  },
  "kernelspec": {
   "display_name": "Python 3.9.5 64-bit ('base': conda)",
   "language": "python",
   "name": "python3"
  },
  "language_info": {
   "codemirror_mode": {
    "name": "ipython",
    "version": 3
   },
   "file_extension": ".py",
   "mimetype": "text/x-python",
   "name": "python",
   "nbconvert_exporter": "python",
   "pygments_lexer": "ipython3",
   "version": "3.9.5"
  },
  "orig_nbformat": 4
 },
 "nbformat": 4,
 "nbformat_minor": 2
}
