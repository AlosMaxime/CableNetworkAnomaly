{
 "cells": [
  {
   "cell_type": "code",
   "execution_count": 4,
   "metadata": {},
   "outputs": [],
   "source": [
    "import pandas as pd\n",
    "import os"
   ]
  },
  {
   "cell_type": "code",
   "execution_count": 14,
   "metadata": {},
   "outputs": [
    {
     "name": "stdout",
     "output_type": "stream",
     "text": [
      "Loading 3VAC1.csv\n",
      "Loading 3VAC2.csv\n",
      "Loading 3VAE1.csv\n",
      "Loading 3VAE2.csv\n",
      "Loading 3VAF1.csv\n",
      "Loading 3VAF2.csv\n",
      "Loading 3VAG1.csv\n",
      "Loading 3VAH1.csv\n",
      "Loading 3VAH2.csv\n",
      "Loading 3VAJ2.csv\n",
      "Loading 3VAK1.csv\n",
      "Loading 3VAK2.csv\n",
      "Loading 3WBE1.csv\n",
      "Loading 3WBM1.csv\n",
      "Loading 3WBN1.csv\n",
      "Loading ATLA1.csv\n",
      "Loading H005A.csv\n",
      "Loading H005B.csv\n",
      "Loading H0182.csv\n",
      "Loading H030C.csv\n",
      "Loading H070A.csv\n",
      "Loading H070C.csv\n",
      "Loading H071A.csv\n",
      "Loading H071B.csv\n",
      "Loading MC050.csv\n",
      "Loading MGABT.csv\n",
      "Loading MM103.csv\n",
      "Loading MM104.csv\n",
      "Loading MM106.csv\n",
      "Loading MM109.csv\n",
      "Loading MM119.csv\n",
      "Loading MM122.csv\n",
      "Loading MM126.csv\n",
      "Loading MM157.csv\n",
      "Loading W012B.csv\n",
      "Loading W056E.csv\n",
      "Loading W081A.csv\n",
      "Loading W086A.csv\n",
      "Loading W091A.csv\n",
      "Loading W100A.csv\n"
     ]
    }
   ],
   "source": [
    "pd_import_list = []\n",
    "\n",
    "for file in os.listdir(os.getcwd() + '\\\\fbc'):\n",
    "    pd_import_list.append(pd.read_csv('fbc/' + file))\n",
    "    print('Loaded {}'.format(file))\n",
    "\n",
    "pd_devices = pd.concat(pd_import_list)"
   ]
  },
  {
   "cell_type": "code",
   "execution_count": 15,
   "metadata": {},
   "outputs": [
    {
     "data": {
      "text/html": [
       "<div>\n",
       "<style scoped>\n",
       "    .dataframe tbody tr th:only-of-type {\n",
       "        vertical-align: middle;\n",
       "    }\n",
       "\n",
       "    .dataframe tbody tr th {\n",
       "        vertical-align: top;\n",
       "    }\n",
       "\n",
       "    .dataframe thead th {\n",
       "        text-align: right;\n",
       "    }\n",
       "</style>\n",
       "<table border=\"1\" class=\"dataframe\">\n",
       "  <thead>\n",
       "    <tr style=\"text-align: right;\">\n",
       "      <th></th>\n",
       "      <th>oper_status</th>\n",
       "      <th>status_detail</th>\n",
       "      <th>poller_source</th>\n",
       "      <th>device_id</th>\n",
       "      <th>collection_time</th>\n",
       "      <th>span</th>\n",
       "      <th>bins</th>\n",
       "      <th>first</th>\n",
       "      <th>last</th>\n",
       "      <th>amplitudes</th>\n",
       "      <th>offset</th>\n",
       "      <th>partition</th>\n",
       "      <th>load_dt</th>\n",
       "      <th>site_id</th>\n",
       "    </tr>\n",
       "  </thead>\n",
       "  <tbody>\n",
       "    <tr>\n",
       "      <th>0</th>\n",
       "      <td>SUCCESS</td>\n",
       "      <td>Successful Scan</td>\n",
       "      <td>ACS</td>\n",
       "      <td>3c:04:61:fe:1e:81</td>\n",
       "      <td>2021-12-31 14:17:24.315516</td>\n",
       "      <td>60000000</td>\n",
       "      <td>512</td>\n",
       "      <td>36000000</td>\n",
       "      <td>996000000</td>\n",
       "      <td>[-6262, -6033, -6128, -6434, -6424, -6254, -62...</td>\n",
       "      <td>24767063</td>\n",
       "      <td>0</td>\n",
       "      <td>2021-12-31</td>\n",
       "      <td>1</td>\n",
       "    </tr>\n",
       "    <tr>\n",
       "      <th>1</th>\n",
       "      <td>SUCCESS</td>\n",
       "      <td>Successful Scan</td>\n",
       "      <td>ACS</td>\n",
       "      <td>58:19:f8:2a:ce:a7</td>\n",
       "      <td>2021-12-31 03:37:44.558435</td>\n",
       "      <td>60000000</td>\n",
       "      <td>512</td>\n",
       "      <td>36000000</td>\n",
       "      <td>996000000</td>\n",
       "      <td>[-6612, -6627, -6640, -6914, -7127, -6670, -64...</td>\n",
       "      <td>24741692</td>\n",
       "      <td>3</td>\n",
       "      <td>2021-12-31</td>\n",
       "      <td>1</td>\n",
       "    </tr>\n",
       "    <tr>\n",
       "      <th>2</th>\n",
       "      <td>SUCCESS</td>\n",
       "      <td>Successful Scan</td>\n",
       "      <td>ACS</td>\n",
       "      <td>a8:97:cd:41:0e:f1</td>\n",
       "      <td>2021-12-31 22:12:33.482232</td>\n",
       "      <td>60000000</td>\n",
       "      <td>512</td>\n",
       "      <td>36000000</td>\n",
       "      <td>996000000</td>\n",
       "      <td>[-4500, -4510, -4660, -4710, -4710, -4870, -48...</td>\n",
       "      <td>24791170</td>\n",
       "      <td>4</td>\n",
       "      <td>2021-12-31</td>\n",
       "      <td>1</td>\n",
       "    </tr>\n",
       "    <tr>\n",
       "      <th>3</th>\n",
       "      <td>SUCCESS</td>\n",
       "      <td>Successful Scan</td>\n",
       "      <td>ACS</td>\n",
       "      <td>b0:da:f9:3e:5d:c6</td>\n",
       "      <td>2021-12-31 02:25:25.461587</td>\n",
       "      <td>60000000</td>\n",
       "      <td>512</td>\n",
       "      <td>36000000</td>\n",
       "      <td>996000000</td>\n",
       "      <td>[-4570, -4590, -4670, -4690, -4690, -4660, -46...</td>\n",
       "      <td>24734587</td>\n",
       "      <td>0</td>\n",
       "      <td>2021-12-31</td>\n",
       "      <td>1</td>\n",
       "    </tr>\n",
       "    <tr>\n",
       "      <th>4</th>\n",
       "      <td>SUCCESS</td>\n",
       "      <td>Successful Scan</td>\n",
       "      <td>ACS</td>\n",
       "      <td>d4:04:cd:d6:f3:5d</td>\n",
       "      <td>2021-12-31 08:23:28.237695</td>\n",
       "      <td>60000000</td>\n",
       "      <td>512</td>\n",
       "      <td>36000000</td>\n",
       "      <td>996000000</td>\n",
       "      <td>[-6678, -6531, -6430, -6245, -6531, -6476, -66...</td>\n",
       "      <td>24754079</td>\n",
       "      <td>1</td>\n",
       "      <td>2021-12-31</td>\n",
       "      <td>1</td>\n",
       "    </tr>\n",
       "  </tbody>\n",
       "</table>\n",
       "</div>"
      ],
      "text/plain": [
       "  oper_status    status_detail poller_source          device_id  \\\n",
       "0     SUCCESS  Successful Scan           ACS  3c:04:61:fe:1e:81   \n",
       "1     SUCCESS  Successful Scan           ACS  58:19:f8:2a:ce:a7   \n",
       "2     SUCCESS  Successful Scan           ACS  a8:97:cd:41:0e:f1   \n",
       "3     SUCCESS  Successful Scan           ACS  b0:da:f9:3e:5d:c6   \n",
       "4     SUCCESS  Successful Scan           ACS  d4:04:cd:d6:f3:5d   \n",
       "\n",
       "              collection_time      span  bins     first       last  \\\n",
       "0  2021-12-31 14:17:24.315516  60000000   512  36000000  996000000   \n",
       "1  2021-12-31 03:37:44.558435  60000000   512  36000000  996000000   \n",
       "2  2021-12-31 22:12:33.482232  60000000   512  36000000  996000000   \n",
       "3  2021-12-31 02:25:25.461587  60000000   512  36000000  996000000   \n",
       "4  2021-12-31 08:23:28.237695  60000000   512  36000000  996000000   \n",
       "\n",
       "                                          amplitudes    offset  partition  \\\n",
       "0  [-6262, -6033, -6128, -6434, -6424, -6254, -62...  24767063          0   \n",
       "1  [-6612, -6627, -6640, -6914, -7127, -6670, -64...  24741692          3   \n",
       "2  [-4500, -4510, -4660, -4710, -4710, -4870, -48...  24791170          4   \n",
       "3  [-4570, -4590, -4670, -4690, -4690, -4660, -46...  24734587          0   \n",
       "4  [-6678, -6531, -6430, -6245, -6531, -6476, -66...  24754079          1   \n",
       "\n",
       "      load_dt  site_id  \n",
       "0  2021-12-31        1  \n",
       "1  2021-12-31        1  \n",
       "2  2021-12-31        1  \n",
       "3  2021-12-31        1  \n",
       "4  2021-12-31        1  "
      ]
     },
     "execution_count": 15,
     "metadata": {},
     "output_type": "execute_result"
    }
   ],
   "source": [
    "pd_devices.head()"
   ]
  },
  {
   "cell_type": "code",
   "execution_count": 16,
   "metadata": {},
   "outputs": [
    {
     "data": {
      "text/plain": [
       "oper_status        26557\n",
       "status_detail      26557\n",
       "poller_source      26557\n",
       "device_id          26557\n",
       "collection_time    26557\n",
       "span               26557\n",
       "bins               26557\n",
       "first              26557\n",
       "last               26557\n",
       "amplitudes         26557\n",
       "offset             26557\n",
       "partition          26557\n",
       "load_dt            26557\n",
       "site_id            26557\n",
       "dtype: int64"
      ]
     },
     "execution_count": 16,
     "metadata": {},
     "output_type": "execute_result"
    }
   ],
   "source": [
    "pd_devices.count()"
   ]
  },
  {
   "cell_type": "code",
   "execution_count": 21,
   "metadata": {},
   "outputs": [
    {
     "data": {
      "text/plain": [
       "8870"
      ]
     },
     "execution_count": 21,
     "metadata": {},
     "output_type": "execute_result"
    }
   ],
   "source": [
    "len(pd_devices.device_id.unique())"
   ]
  },
  {
   "cell_type": "code",
   "execution_count": null,
   "metadata": {},
   "outputs": [],
   "source": []
  }
 ],
 "metadata": {
  "interpreter": {
   "hash": "9a8efc3c595aed6e258115fdbc81be49429f464b3825d0fc33dc408afc6a1212"
  },
  "kernelspec": {
   "display_name": "Python 3.9.5 64-bit ('base': conda)",
   "language": "python",
   "name": "python3"
  },
  "language_info": {
   "codemirror_mode": {
    "name": "ipython",
    "version": 3
   },
   "file_extension": ".py",
   "mimetype": "text/x-python",
   "name": "python",
   "nbconvert_exporter": "python",
   "pygments_lexer": "ipython3",
   "version": "3.9.5"
  },
  "orig_nbformat": 4
 },
 "nbformat": 4,
 "nbformat_minor": 2
}
